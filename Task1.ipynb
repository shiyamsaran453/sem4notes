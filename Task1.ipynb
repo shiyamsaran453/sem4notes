{
 "cells": [
  {
   "cell_type": "code",
   "execution_count": 1,
   "id": "3afb657a",
   "metadata": {},
   "outputs": [],
   "source": [
    "import cv2"
   ]
  },
  {
   "cell_type": "code",
   "execution_count": 2,
   "id": "c55124cb",
   "metadata": {},
   "outputs": [],
   "source": [
    "import numpy as np"
   ]
  },
  {
   "cell_type": "code",
   "execution_count": 3,
   "id": "30ecd9bf",
   "metadata": {},
   "outputs": [],
   "source": [
    "a=cv2.imread(\"C:/Users/SN139/Downloads/cat.jpg\")"
   ]
  },
  {
   "cell_type": "code",
   "execution_count": 4,
   "id": "5842ef0f",
   "metadata": {},
   "outputs": [
    {
     "data": {
      "text/plain": [
       "array([[[179, 208, 217],\n",
       "        [178, 207, 216],\n",
       "        [176, 207, 216],\n",
       "        ...,\n",
       "        [210, 222, 232],\n",
       "        [210, 222, 232],\n",
       "        [209, 221, 231]],\n",
       "\n",
       "       [[179, 208, 217],\n",
       "        [178, 207, 216],\n",
       "        [176, 207, 216],\n",
       "        ...,\n",
       "        [210, 222, 232],\n",
       "        [210, 222, 232],\n",
       "        [210, 222, 232]],\n",
       "\n",
       "       [[179, 208, 217],\n",
       "        [178, 207, 216],\n",
       "        [175, 206, 215],\n",
       "        ...,\n",
       "        [210, 222, 232],\n",
       "        [210, 222, 232],\n",
       "        [210, 222, 234]],\n",
       "\n",
       "       ...,\n",
       "\n",
       "       [[118, 152, 182],\n",
       "        [119, 153, 183],\n",
       "        [121, 155, 185],\n",
       "        ...,\n",
       "        [197, 213, 225],\n",
       "        [197, 213, 225],\n",
       "        [197, 213, 225]],\n",
       "\n",
       "       [[117, 151, 181],\n",
       "        [118, 152, 182],\n",
       "        [120, 154, 184],\n",
       "        ...,\n",
       "        [197, 213, 225],\n",
       "        [197, 213, 225],\n",
       "        [196, 212, 224]],\n",
       "\n",
       "       [[116, 150, 180],\n",
       "        [117, 151, 181],\n",
       "        [119, 153, 183],\n",
       "        ...,\n",
       "        [197, 213, 225],\n",
       "        [197, 213, 225],\n",
       "        [198, 214, 226]]], dtype=uint8)"
      ]
     },
     "execution_count": 4,
     "metadata": {},
     "output_type": "execute_result"
    }
   ],
   "source": [
    "a"
   ]
  },
  {
   "cell_type": "code",
   "execution_count": 9,
   "id": "6827ef75",
   "metadata": {},
   "outputs": [],
   "source": [
    "cv2.imshow(\"cat\",a)\n",
    "cv2.waitKey(0)\n",
    "cv2.destroyAllWindows()"
   ]
  },
  {
   "cell_type": "code",
   "execution_count": 10,
   "id": "524b548c",
   "metadata": {},
   "outputs": [],
   "source": [
    "shp=a.shape   #shape of an image"
   ]
  },
  {
   "cell_type": "code",
   "execution_count": 11,
   "id": "e6b19b29",
   "metadata": {},
   "outputs": [
    {
     "name": "stdout",
     "output_type": "stream",
     "text": [
      "(1024, 1025, 3)\n"
     ]
    }
   ],
   "source": [
    "print(shp)"
   ]
  },
  {
   "cell_type": "code",
   "execution_count": 12,
   "id": "a721f007",
   "metadata": {},
   "outputs": [],
   "source": [
    "s=a.size     #size of an image"
   ]
  },
  {
   "cell_type": "code",
   "execution_count": 13,
   "id": "3def5cec",
   "metadata": {},
   "outputs": [
    {
     "name": "stdout",
     "output_type": "stream",
     "text": [
      "3148800\n"
     ]
    }
   ],
   "source": [
    "print(s)"
   ]
  },
  {
   "cell_type": "code",
   "execution_count": null,
   "id": "0a98281c",
   "metadata": {},
   "outputs": [],
   "source": []
  },
  {
   "cell_type": "code",
   "execution_count": null,
   "id": "f735befd",
   "metadata": {},
   "outputs": [],
   "source": []
  }
 ],
 "metadata": {
  "kernelspec": {
   "display_name": "Python 3 (ipykernel)",
   "language": "python",
   "name": "python3"
  },
  "language_info": {
   "codemirror_mode": {
    "name": "ipython",
    "version": 3
   },
   "file_extension": ".py",
   "mimetype": "text/x-python",
   "name": "python",
   "nbconvert_exporter": "python",
   "pygments_lexer": "ipython3",
   "version": "3.11.5"
  }
 },
 "nbformat": 4,
 "nbformat_minor": 5
}
