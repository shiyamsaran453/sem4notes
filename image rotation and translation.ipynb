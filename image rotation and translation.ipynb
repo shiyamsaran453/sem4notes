{
 "cells": [
  {
   "cell_type": "markdown",
   "id": "b7774630",
   "metadata": {},
   "source": [
    "# Image Rotation and Translation"
   ]
  },
  {
   "cell_type": "code",
   "execution_count": 2,
   "id": "673f743e",
   "metadata": {},
   "outputs": [],
   "source": [
    "import cv2\n",
    "import numpy as ns"
   ]
  },
  {
   "cell_type": "code",
   "execution_count": 3,
   "id": "70022763",
   "metadata": {},
   "outputs": [],
   "source": [
    "read=cv2.imread(\"C:/Users/shiya/Downloads/th.jpeg\")"
   ]
  },
  {
   "cell_type": "code",
   "execution_count": 4,
   "id": "954a5bcc",
   "metadata": {},
   "outputs": [
    {
     "data": {
      "text/plain": [
       "array([[[ 31,  63,  68],\n",
       "        [ 29,  64,  68],\n",
       "        [ 29,  64,  67],\n",
       "        ...,\n",
       "        [  2,  57, 114],\n",
       "        [  3,  63, 117],\n",
       "        [  8,  70, 124]],\n",
       "\n",
       "       [[ 30,  62,  67],\n",
       "        [ 30,  62,  67],\n",
       "        [ 29,  64,  67],\n",
       "        ...,\n",
       "        [  0,  53, 108],\n",
       "        [  1,  58, 113],\n",
       "        [  5,  65, 119]],\n",
       "\n",
       "       [[ 31,  62,  65],\n",
       "        [ 30,  63,  66],\n",
       "        [ 29,  64,  67],\n",
       "        ...,\n",
       "        [  0,  47, 103],\n",
       "        [  0,  52, 107],\n",
       "        [  1,  59, 111]],\n",
       "\n",
       "       ...,\n",
       "\n",
       "       [[ 18, 127, 179],\n",
       "        [ 16, 125, 177],\n",
       "        [ 13, 123, 175],\n",
       "        ...,\n",
       "        [ 11,  65, 130],\n",
       "        [  8,  66, 132],\n",
       "        [ 10,  70, 136]],\n",
       "\n",
       "       [[ 19, 128, 180],\n",
       "        [ 18, 127, 179],\n",
       "        [ 16, 126, 178],\n",
       "        ...,\n",
       "        [ 10,  64, 129],\n",
       "        [  9,  67, 133],\n",
       "        [ 12,  72, 138]],\n",
       "\n",
       "       [[ 21, 130, 182],\n",
       "        [ 20, 129, 181],\n",
       "        [ 18, 128, 180],\n",
       "        ...,\n",
       "        [ 10,  64, 129],\n",
       "        [ 10,  68, 134],\n",
       "        [ 15,  75, 141]]], dtype=uint8)"
      ]
     },
     "execution_count": 4,
     "metadata": {},
     "output_type": "execute_result"
    }
   ],
   "source": [
    "read"
   ]
  },
  {
   "cell_type": "code",
   "execution_count": 5,
   "id": "1fa87b2e",
   "metadata": {},
   "outputs": [],
   "source": [
    "shp=read.shape"
   ]
  },
  {
   "cell_type": "code",
   "execution_count": 6,
   "id": "7d6b26b1",
   "metadata": {},
   "outputs": [
    {
     "data": {
      "text/plain": [
       "(180, 240, 3)"
      ]
     },
     "execution_count": 6,
     "metadata": {},
     "output_type": "execute_result"
    }
   ],
   "source": [
    "shp"
   ]
  },
  {
   "cell_type": "code",
   "execution_count": 7,
   "id": "46114cfa",
   "metadata": {},
   "outputs": [
    {
     "name": "stdout",
     "output_type": "stream",
     "text": [
      "180\n",
      "240\n"
     ]
    }
   ],
   "source": [
    "h,w=read.shape[:2]\n",
    "print(h)\n",
    "print(w)"
   ]
  },
  {
   "cell_type": "code",
   "execution_count": 8,
   "id": "137fb61f",
   "metadata": {},
   "outputs": [],
   "source": [
    "center=h/2,w/2"
   ]
  },
  {
   "cell_type": "code",
   "execution_count": 9,
   "id": "66a0aca3",
   "metadata": {},
   "outputs": [
    {
     "data": {
      "text/plain": [
       "(90.0, 120.0)"
      ]
     },
     "execution_count": 9,
     "metadata": {},
     "output_type": "execute_result"
    }
   ],
   "source": [
    "center"
   ]
  },
  {
   "cell_type": "markdown",
   "id": "2d551008",
   "metadata": {},
   "source": [
    "# Rotation Matrix"
   ]
  },
  {
   "cell_type": "code",
   "execution_count": 10,
   "id": "9f731e39",
   "metadata": {},
   "outputs": [],
   "source": [
    "rotate_matrix=cv2.getRotationMatrix2D(center=center,angle=60,scale=0.5)"
   ]
  },
  {
   "cell_type": "code",
   "execution_count": 11,
   "id": "afaea53b",
   "metadata": {},
   "outputs": [
    {
     "data": {
      "text/plain": [
       "array([[  0.25      ,   0.4330127 ,  15.53847577],\n",
       "       [ -0.4330127 ,   0.25      , 128.97114317]])"
      ]
     },
     "execution_count": 11,
     "metadata": {},
     "output_type": "execute_result"
    }
   ],
   "source": [
    "rotate_matrix"
   ]
  },
  {
   "cell_type": "code",
   "execution_count": 12,
   "id": "04254f4c",
   "metadata": {},
   "outputs": [],
   "source": [
    "rotated_image=cv2.warpAffine(src=read,M=rotate_matrix,dsize=(h,w))"
   ]
  },
  {
   "cell_type": "code",
   "execution_count": 13,
   "id": "e66ed64d",
   "metadata": {},
   "outputs": [],
   "source": [
    "cv2.imshow(\"original image\",read)\n",
    "cv2.waitKey(0)\n",
    "cv2.imshow(\"rotated image\",rotated_image)\n",
    "cv2.waitKey(0)\n",
    "cv2.destroyAllWindows()"
   ]
  },
  {
   "cell_type": "markdown",
   "id": "12df7edf",
   "metadata": {},
   "source": [
    "# Translation Matrix"
   ]
  },
  {
   "cell_type": "code",
   "execution_count": 14,
   "id": "5f66ee14",
   "metadata": {},
   "outputs": [],
   "source": [
    "trans_x,trans_y=w/2,h/2"
   ]
  },
  {
   "cell_type": "code",
   "execution_count": 27,
   "id": "18edc2a0",
   "metadata": {},
   "outputs": [],
   "source": [
    "trans_matrix=ns.array([[0.5,0,trans_x],[0,0.5,trans_y]])"
   ]
  },
  {
   "cell_type": "code",
   "execution_count": 28,
   "id": "cfee720e",
   "metadata": {},
   "outputs": [
    {
     "data": {
      "text/plain": [
       "array([[  0.5,   0. , 120. ],\n",
       "       [  0. ,   0.5,  90. ]])"
      ]
     },
     "execution_count": 28,
     "metadata": {},
     "output_type": "execute_result"
    }
   ],
   "source": [
    "trans_matrix"
   ]
  },
  {
   "cell_type": "code",
   "execution_count": 29,
   "id": "b285bbab",
   "metadata": {},
   "outputs": [],
   "source": [
    "trans_image=cv2.warpAffine(src=read,M=trans_matrix,dsize=(h,w))"
   ]
  },
  {
   "cell_type": "code",
   "execution_count": 30,
   "id": "974b69ff",
   "metadata": {},
   "outputs": [],
   "source": [
    "cv2.imshow(\"trans_image\",trans_image)\n",
    "cv2.waitKey(0)\n",
    "cv2.destroyAllWindows()"
   ]
  },
  {
   "cell_type": "code",
   "execution_count": null,
   "id": "cf67ab98",
   "metadata": {},
   "outputs": [],
   "source": []
  },
  {
   "cell_type": "code",
   "execution_count": null,
   "id": "a41d3078",
   "metadata": {},
   "outputs": [],
   "source": []
  }
 ],
 "metadata": {
  "kernelspec": {
   "display_name": "Python 3 (ipykernel)",
   "language": "python",
   "name": "python3"
  },
  "language_info": {
   "codemirror_mode": {
    "name": "ipython",
    "version": 3
   },
   "file_extension": ".py",
   "mimetype": "text/x-python",
   "name": "python",
   "nbconvert_exporter": "python",
   "pygments_lexer": "ipython3",
   "version": "3.11.4"
  }
 },
 "nbformat": 4,
 "nbformat_minor": 5
}
