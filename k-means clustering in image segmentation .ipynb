{
 "cells": [
  {
   "cell_type": "code",
   "execution_count": 1,
   "id": "7bfba98e",
   "metadata": {},
   "outputs": [],
   "source": [
    "import numpy as np\n",
    "import cv2\n",
    "import matplotlib.pyplot as plt"
   ]
  },
  {
   "cell_type": "code",
   "execution_count": 2,
   "id": "276e63b1",
   "metadata": {},
   "outputs": [],
   "source": [
    "#read image\n",
    "read=cv2.imread(\"C:/Users/shiya/Downloads/ai.jpg\")"
   ]
  },
  {
   "cell_type": "code",
   "execution_count": 3,
   "id": "7f488cba",
   "metadata": {},
   "outputs": [
    {
     "data": {
      "text/plain": [
       "array([[[189,  60, 161],\n",
       "        [190,  61, 162],\n",
       "        [191,  62, 163],\n",
       "        ...,\n",
       "        [204, 163, 223],\n",
       "        [203, 162, 222],\n",
       "        [203, 162, 222]],\n",
       "\n",
       "       [[189,  59, 159],\n",
       "        [189,  60, 161],\n",
       "        [191,  62, 163],\n",
       "        ...,\n",
       "        [203, 152, 218],\n",
       "        [201, 152, 217],\n",
       "        [201, 150, 216]],\n",
       "\n",
       "       [[189,  59, 159],\n",
       "        [189,  59, 159],\n",
       "        [190,  61, 162],\n",
       "        ...,\n",
       "        [205, 139, 210],\n",
       "        [203, 140, 210],\n",
       "        [203, 137, 208]],\n",
       "\n",
       "       ...,\n",
       "\n",
       "       [[194,  85,   2],\n",
       "        [194,  85,   2],\n",
       "        [195,  86,   3],\n",
       "        ...,\n",
       "        [177, 142,  78],\n",
       "        [177, 141,  81],\n",
       "        [177, 141,  81]],\n",
       "\n",
       "       [[194,  85,   2],\n",
       "        [194,  85,   2],\n",
       "        [195,  86,   3],\n",
       "        ...,\n",
       "        [180, 145,  89],\n",
       "        [181, 146,  92],\n",
       "        [181, 146,  92]],\n",
       "\n",
       "       [[194,  85,   2],\n",
       "        [194,  85,   2],\n",
       "        [195,  86,   3],\n",
       "        ...,\n",
       "        [183, 147,  97],\n",
       "        [185, 149, 101],\n",
       "        [185, 149, 101]]], dtype=uint8)"
      ]
     },
     "execution_count": 3,
     "metadata": {},
     "output_type": "execute_result"
    }
   ],
   "source": [
    "#color conversion\n",
    "rgb=cv2.cvtColor(read,cv2.COLOR_BGR2RGB)\n",
    "rgb\n"
   ]
  },
  {
   "cell_type": "code",
   "execution_count": 4,
   "id": "7ccc0a84",
   "metadata": {},
   "outputs": [
    {
     "data": {
      "text/plain": [
       "array([[189,  60, 161],\n",
       "       [190,  61, 162],\n",
       "       [191,  62, 163],\n",
       "       ...,\n",
       "       [183, 147,  97],\n",
       "       [185, 149, 101],\n",
       "       [185, 149, 101]], dtype=uint8)"
      ]
     },
     "execution_count": 4,
     "metadata": {},
     "output_type": "execute_result"
    }
   ],
   "source": [
    "#reshape because clusttering use only 2d array not 3d array\n",
    "reshape=rgb.reshape((-1,3))\n",
    "reshape"
   ]
  },
  {
   "cell_type": "code",
   "execution_count": 5,
   "id": "962bcbec",
   "metadata": {},
   "outputs": [
    {
     "data": {
      "text/plain": [
       "array([[189.,  60., 161.],\n",
       "       [190.,  61., 162.],\n",
       "       [191.,  62., 163.],\n",
       "       ...,\n",
       "       [183., 147.,  97.],\n",
       "       [185., 149., 101.],\n",
       "       [185., 149., 101.]], dtype=float32)"
      ]
     },
     "execution_count": 5,
     "metadata": {},
     "output_type": "execute_result"
    }
   ],
   "source": [
    "#float conversion\n",
    "floa_t=np.float32(reshape)\n",
    "floa_t"
   ]
  },
  {
   "cell_type": "code",
   "execution_count": 6,
   "id": "d3ee74d7",
   "metadata": {},
   "outputs": [],
   "source": [
    "#iteration termination criteria\n",
    "#eps=epcilon\n",
    "#max_iter=maximum iteration\n",
    "criteria=(cv2.TERM_CRITERIA_EPS+cv2.TERM_CRITERIA_MAX_ITER,100,1)#100=no of iteration & 1=accuracy (how accurate the value would be)\n"
   ]
  },
  {
   "cell_type": "code",
   "execution_count": 7,
   "id": "add371bf",
   "metadata": {},
   "outputs": [
    {
     "data": {
      "text/plain": [
       "(3, 100, 1)"
      ]
     },
     "execution_count": 7,
     "metadata": {},
     "output_type": "execute_result"
    }
   ],
   "source": [
    "criteria"
   ]
  },
  {
   "cell_type": "code",
   "execution_count": 54,
   "id": "525f71ef",
   "metadata": {},
   "outputs": [],
   "source": [
    "#clustering conditions\n",
    "k=4\n",
    "attempt=100"
   ]
  },
  {
   "cell_type": "code",
   "execution_count": 55,
   "id": "84317924",
   "metadata": {},
   "outputs": [],
   "source": [
    "#k-mean clusturing\n",
    "compactness,label,center=cv2.kmeans(floa_t,k,None,criteria,attempt,cv2.KMEANS_PP_CENTERS)#cv2.KMEANS_PP_CENTERS=find the center,k=no of groups\n",
    "#center=find center,compactness=average of the values"
   ]
  },
  {
   "cell_type": "code",
   "execution_count": 56,
   "id": "45ac67a5",
   "metadata": {},
   "outputs": [
    {
     "data": {
      "text/plain": [
       "array([[1],\n",
       "       [1],\n",
       "       [1],\n",
       "       ...,\n",
       "       [1],\n",
       "       [1],\n",
       "       [1]], dtype=int32)"
      ]
     },
     "execution_count": 56,
     "metadata": {},
     "output_type": "execute_result"
    }
   ],
   "source": [
    "label"
   ]
  },
  {
   "cell_type": "code",
   "execution_count": 57,
   "id": "64cd2770",
   "metadata": {},
   "outputs": [
    {
     "data": {
      "text/plain": [
       "array([[206.6772  , 120.98429 ,  35.186703],\n",
       "       [204.66844 ,  89.33922 , 114.462   ],\n",
       "       [173.19386 , 148.94086 , 182.1168  ],\n",
       "       [134.34021 ,  68.87718 ,  83.585556]], dtype=float32)"
      ]
     },
     "execution_count": 57,
     "metadata": {},
     "output_type": "execute_result"
    }
   ],
   "source": [
    "center"
   ]
  },
  {
   "cell_type": "code",
   "execution_count": 58,
   "id": "163e4d23",
   "metadata": {},
   "outputs": [
    {
     "data": {
      "text/plain": [
       "105608561.15439582"
      ]
     },
     "execution_count": 58,
     "metadata": {},
     "output_type": "execute_result"
    }
   ],
   "source": [
    "compactness"
   ]
  },
  {
   "cell_type": "code",
   "execution_count": 59,
   "id": "dba5a12d",
   "metadata": {},
   "outputs": [],
   "source": [
    "center =np.uint8(center)"
   ]
  },
  {
   "cell_type": "code",
   "execution_count": 60,
   "id": "8b90ed75",
   "metadata": {},
   "outputs": [
    {
     "data": {
      "text/plain": [
       "array([[206, 120,  35],\n",
       "       [204,  89, 114],\n",
       "       [173, 148, 182],\n",
       "       [134,  68,  83]], dtype=uint8)"
      ]
     },
     "execution_count": 60,
     "metadata": {},
     "output_type": "execute_result"
    }
   ],
   "source": [
    "center"
   ]
  },
  {
   "cell_type": "code",
   "execution_count": 61,
   "id": "6453f81b",
   "metadata": {},
   "outputs": [],
   "source": [
    "#flattening and reshape\n",
    "res=center[label.flatten()]\n",
    "reshape_img =res.reshape((rgb.shape))\n"
   ]
  },
  {
   "cell_type": "code",
   "execution_count": 62,
   "id": "10bdab8b",
   "metadata": {},
   "outputs": [
    {
     "data": {
      "text/plain": [
       "array([[[204,  89, 114],\n",
       "        [204,  89, 114],\n",
       "        [204,  89, 114],\n",
       "        ...,\n",
       "        [173, 148, 182],\n",
       "        [173, 148, 182],\n",
       "        [173, 148, 182]],\n",
       "\n",
       "       [[204,  89, 114],\n",
       "        [204,  89, 114],\n",
       "        [204,  89, 114],\n",
       "        ...,\n",
       "        [173, 148, 182],\n",
       "        [173, 148, 182],\n",
       "        [173, 148, 182]],\n",
       "\n",
       "       [[204,  89, 114],\n",
       "        [204,  89, 114],\n",
       "        [204,  89, 114],\n",
       "        ...,\n",
       "        [173, 148, 182],\n",
       "        [173, 148, 182],\n",
       "        [173, 148, 182]],\n",
       "\n",
       "       ...,\n",
       "\n",
       "       [[206, 120,  35],\n",
       "        [206, 120,  35],\n",
       "        [206, 120,  35],\n",
       "        ...,\n",
       "        [206, 120,  35],\n",
       "        [206, 120,  35],\n",
       "        [206, 120,  35]],\n",
       "\n",
       "       [[206, 120,  35],\n",
       "        [206, 120,  35],\n",
       "        [206, 120,  35],\n",
       "        ...,\n",
       "        [206, 120,  35],\n",
       "        [204,  89, 114],\n",
       "        [204,  89, 114]],\n",
       "\n",
       "       [[206, 120,  35],\n",
       "        [206, 120,  35],\n",
       "        [206, 120,  35],\n",
       "        ...,\n",
       "        [204,  89, 114],\n",
       "        [204,  89, 114],\n",
       "        [204,  89, 114]]], dtype=uint8)"
      ]
     },
     "execution_count": 62,
     "metadata": {},
     "output_type": "execute_result"
    }
   ],
   "source": [
    "reshape_img"
   ]
  },
  {
   "cell_type": "code",
   "execution_count": 63,
   "id": "09640604",
   "metadata": {},
   "outputs": [
    {
     "data": {
      "text/plain": [
       "<matplotlib.image.AxesImage at 0x12770900fd0>"
      ]
     },
     "execution_count": 63,
     "metadata": {},
     "output_type": "execute_result"
    },
    {
     "data": {
      "image/png": "[encoded data removed]",
      "text/plain": [
       "<Figure size 640x480 with 1 Axes>"
      ]
     },
     "metadata": {},
     "output_type": "display_data"
    }
   ],
   "source": [
    "plt.imshow(reshape_img)"
   ]
  },
  {
   "cell_type": "code",
   "execution_count": 64,
   "id": "0214f025",
   "metadata": {},
   "outputs": [],
   "source": [
    "cv2.imshow(\"clus img\",reshape_img)\n",
    "cv2.imshow(\"ori img\",read)\n",
    "cv2.waitKey(0)\n",
    "cv2.destroyAllWindows()\n"
   ]
  },
  {
   "cell_type": "code",
   "execution_count": null,
   "id": "f55e44d5",
   "metadata": {},
   "outputs": [],
   "source": []
  }
 ],
 "metadata": {
  "kernelspec": {
   "display_name": "Python 3 (ipykernel)",
   "language": "python",
   "name": "python3"
  },
  "language_info": {
   "codemirror_mode": {
    "name": "ipython",
    "version": 3
   },
   "file_extension": ".py",
   "mimetype": "text/x-python",
   "name": "python",
   "nbconvert_exporter": "python",
   "pygments_lexer": "ipython3",
   "version": "3.11.4"
  }
 },
 "nbformat": 4,
 "nbformat_minor": 5
}
