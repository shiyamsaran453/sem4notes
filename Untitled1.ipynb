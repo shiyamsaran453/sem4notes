{
 "cells": [
  {
   "cell_type": "code",
   "execution_count": 1,
   "id": "9f6cc6f5",
   "metadata": {},
   "outputs": [],
   "source": [
    "import cv2"
   ]
  },
  {
   "cell_type": "code",
   "execution_count": 2,
   "id": "a3e1b0f5",
   "metadata": {},
   "outputs": [],
   "source": [
    "import numpy as np"
   ]
  },
  {
   "cell_type": "code",
   "execution_count": 3,
   "id": "fd67f7d9",
   "metadata": {},
   "outputs": [],
   "source": [
    "a=cv2.imread(\"C:/Users/SN139/Downloads/cat.jpg\")"
   ]
  },
  {
   "cell_type": "code",
   "execution_count": 4,
   "id": "fe10eea1",
   "metadata": {},
   "outputs": [
    {
     "data": {
      "text/plain": [
       "array([[[179, 208, 217],\n",
       "        [178, 207, 216],\n",
       "        [176, 207, 216],\n",
       "        ...,\n",
       "        [210, 222, 232],\n",
       "        [210, 222, 232],\n",
       "        [209, 221, 231]],\n",
       "\n",
       "       [[179, 208, 217],\n",
       "        [178, 207, 216],\n",
       "        [176, 207, 216],\n",
       "        ...,\n",
       "        [210, 222, 232],\n",
       "        [210, 222, 232],\n",
       "        [210, 222, 232]],\n",
       "\n",
       "       [[179, 208, 217],\n",
       "        [178, 207, 216],\n",
       "        [175, 206, 215],\n",
       "        ...,\n",
       "        [210, 222, 232],\n",
       "        [210, 222, 232],\n",
       "        [210, 222, 234]],\n",
       "\n",
       "       ...,\n",
       "\n",
       "       [[118, 152, 182],\n",
       "        [119, 153, 183],\n",
       "        [121, 155, 185],\n",
       "        ...,\n",
       "        [197, 213, 225],\n",
       "        [197, 213, 225],\n",
       "        [197, 213, 225]],\n",
       "\n",
       "       [[117, 151, 181],\n",
       "        [118, 152, 182],\n",
       "        [120, 154, 184],\n",
       "        ...,\n",
       "        [197, 213, 225],\n",
       "        [197, 213, 225],\n",
       "        [196, 212, 224]],\n",
       "\n",
       "       [[116, 150, 180],\n",
       "        [117, 151, 181],\n",
       "        [119, 153, 183],\n",
       "        ...,\n",
       "        [197, 213, 225],\n",
       "        [197, 213, 225],\n",
       "        [198, 214, 226]]], dtype=uint8)"
      ]
     },
     "execution_count": 4,
     "metadata": {},
     "output_type": "execute_result"
    }
   ],
   "source": [
    "a"
   ]
  },
  {
   "cell_type": "code",
   "execution_count": 5,
   "id": "6856aed5",
   "metadata": {},
   "outputs": [],
   "source": [
    "cv2.imshow(\"cat\", a)\n",
    "cv2.waitKey(5)\n",
    "cv2.destroyAllWindows()"
   ]
  },
  {
   "cell_type": "code",
   "execution_count": 6,
   "id": "3a69e43e",
   "metadata": {},
   "outputs": [],
   "source": [
    "sh=a.shape"
   ]
  },
  {
   "cell_type": "code",
   "execution_count": 7,
   "id": "8dcad24e",
   "metadata": {},
   "outputs": [
    {
     "name": "stdout",
     "output_type": "stream",
     "text": [
      "(1024, 1025, 3)\n"
     ]
    }
   ],
   "source": [
    "print(sh)"
   ]
  },
  {
   "cell_type": "code",
   "execution_count": 8,
   "id": "0b9b9a15",
   "metadata": {},
   "outputs": [],
   "source": [
    "si=a.size"
   ]
  },
  {
   "cell_type": "code",
   "execution_count": 9,
   "id": "a544511c",
   "metadata": {},
   "outputs": [
    {
     "name": "stdout",
     "output_type": "stream",
     "text": [
      "3148800\n"
     ]
    }
   ],
   "source": [
    "print(si)"
   ]
  },
  {
   "cell_type": "code",
   "execution_count": 10,
   "id": "a5558354",
   "metadata": {},
   "outputs": [],
   "source": [
    "rs=cv2.resize(a,(250,250))"
   ]
  },
  {
   "cell_type": "code",
   "execution_count": 11,
   "id": "5b102d28",
   "metadata": {
    "scrolled": true
   },
   "outputs": [
    {
     "name": "stdout",
     "output_type": "stream",
     "text": [
      "(250, 250, 3)\n"
     ]
    }
   ],
   "source": [
    "print(rs.shape)"
   ]
  },
  {
   "cell_type": "code",
   "execution_count": 14,
   "id": "b9926e9e",
   "metadata": {},
   "outputs": [],
   "source": [
    "cv2.imshow(\"cat\" , a)\n",
    "cv2.imshow(\"cat\",rs)\n",
    "cv2.waitKey(0)\n",
    "cv2.destroyAllWindows()"
   ]
  },
  {
   "cell_type": "code",
   "execution_count": 15,
   "id": "c85ae359",
   "metadata": {},
   "outputs": [],
   "source": [
    "colors=[i for i in dir(cv2) if i.startswith(\"COLOR_BGR\")]"
   ]
  },
  {
   "cell_type": "code",
   "execution_count": 16,
   "id": "0476bc87",
   "metadata": {},
   "outputs": [
    {
     "data": {
      "text/plain": [
       "['COLOR_BGR2BGR555',\n",
       " 'COLOR_BGR2BGR565',\n",
       " 'COLOR_BGR2BGRA',\n",
       " 'COLOR_BGR2GRAY',\n",
       " 'COLOR_BGR2HLS',\n",
       " 'COLOR_BGR2HLS_FULL',\n",
       " 'COLOR_BGR2HSV',\n",
       " 'COLOR_BGR2HSV_FULL',\n",
       " 'COLOR_BGR2LAB',\n",
       " 'COLOR_BGR2LUV',\n",
       " 'COLOR_BGR2Lab',\n",
       " 'COLOR_BGR2Luv',\n",
       " 'COLOR_BGR2RGB',\n",
       " 'COLOR_BGR2RGBA',\n",
       " 'COLOR_BGR2XYZ',\n",
       " 'COLOR_BGR2YCR_CB',\n",
       " 'COLOR_BGR2YCrCb',\n",
       " 'COLOR_BGR2YUV',\n",
       " 'COLOR_BGR2YUV_I420',\n",
       " 'COLOR_BGR2YUV_IYUV',\n",
       " 'COLOR_BGR2YUV_UYNV',\n",
       " 'COLOR_BGR2YUV_UYVY',\n",
       " 'COLOR_BGR2YUV_Y422',\n",
       " 'COLOR_BGR2YUV_YUNV',\n",
       " 'COLOR_BGR2YUV_YUY2',\n",
       " 'COLOR_BGR2YUV_YUYV',\n",
       " 'COLOR_BGR2YUV_YV12',\n",
       " 'COLOR_BGR2YUV_YVYU',\n",
       " 'COLOR_BGR5552BGR',\n",
       " 'COLOR_BGR5552BGRA',\n",
       " 'COLOR_BGR5552GRAY',\n",
       " 'COLOR_BGR5552RGB',\n",
       " 'COLOR_BGR5552RGBA',\n",
       " 'COLOR_BGR5652BGR',\n",
       " 'COLOR_BGR5652BGRA',\n",
       " 'COLOR_BGR5652GRAY',\n",
       " 'COLOR_BGR5652RGB',\n",
       " 'COLOR_BGR5652RGBA',\n",
       " 'COLOR_BGRA2BGR',\n",
       " 'COLOR_BGRA2BGR555',\n",
       " 'COLOR_BGRA2BGR565',\n",
       " 'COLOR_BGRA2GRAY',\n",
       " 'COLOR_BGRA2RGB',\n",
       " 'COLOR_BGRA2RGBA',\n",
       " 'COLOR_BGRA2YUV_I420',\n",
       " 'COLOR_BGRA2YUV_IYUV',\n",
       " 'COLOR_BGRA2YUV_UYNV',\n",
       " 'COLOR_BGRA2YUV_UYVY',\n",
       " 'COLOR_BGRA2YUV_Y422',\n",
       " 'COLOR_BGRA2YUV_YUNV',\n",
       " 'COLOR_BGRA2YUV_YUY2',\n",
       " 'COLOR_BGRA2YUV_YUYV',\n",
       " 'COLOR_BGRA2YUV_YV12',\n",
       " 'COLOR_BGRA2YUV_YVYU']"
      ]
     },
     "execution_count": 16,
     "metadata": {},
     "output_type": "execute_result"
    }
   ],
   "source": [
    "colors"
   ]
  },
  {
   "cell_type": "code",
   "execution_count": 21,
   "id": "c109b575",
   "metadata": {},
   "outputs": [],
   "source": [
    "b=cv2.cvtColor(a,cv2.COLOR_BGR2HLS)"
   ]
  },
  {
   "cell_type": "code",
   "execution_count": 22,
   "id": "e3f3d127",
   "metadata": {},
   "outputs": [],
   "source": [
    "cv2.imshow(\"cat\",a)\n",
    "cv2.imshow(\"tac\",b)\n",
    "cv2.waitKey(0)\n",
    "cv2.destroyAllWindows()"
   ]
  },
  {
   "cell_type": "code",
   "execution_count": null,
   "id": "ae23b229",
   "metadata": {},
   "outputs": [],
   "source": []
  }
 ],
 "metadata": {
  "kernelspec": {
   "display_name": "Python 3 (ipykernel)",
   "language": "python",
   "name": "python3"
  },
  "language_info": {
   "codemirror_mode": {
    "name": "ipython",
    "version": 3
   },
   "file_extension": ".py",
   "mimetype": "text/x-python",
   "name": "python",
   "nbconvert_exporter": "python",
   "pygments_lexer": "ipython3",
   "version": "3.11.5"
  }
 },
 "nbformat": 4,
 "nbformat_minor": 5
}
