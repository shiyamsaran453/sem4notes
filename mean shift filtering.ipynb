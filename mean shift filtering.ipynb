{
 "cells": [
  {
   "cell_type": "code",
   "execution_count": 17,
   "id": "62347ba5",
   "metadata": {},
   "outputs": [],
   "source": [
    "#used for smoothen image"
   ]
  },
  {
   "cell_type": "code",
   "execution_count": 12,
   "id": "892815f0",
   "metadata": {},
   "outputs": [],
   "source": [
    "import cv2\n",
    "import numpy as np\n",
    "import matplotlib.pyplot as plt"
   ]
  },
  {
   "cell_type": "code",
   "execution_count": 13,
   "id": "cfadd992",
   "metadata": {},
   "outputs": [],
   "source": [
    "read=cv2.imread(\"C:/Users/shiya/OneDrive/Documents/ai and ml/download.jpg\")"
   ]
  },
  {
   "cell_type": "code",
   "execution_count": 23,
   "id": "1f917f22",
   "metadata": {},
   "outputs": [],
   "source": [
    "segmented_img=cv2.pyrMeanShiftFiltering(read,20,30)"
   ]
  },
  {
   "cell_type": "code",
   "execution_count": 24,
   "id": "3131bec2",
   "metadata": {},
   "outputs": [],
   "source": [
    "cv2.imshow(\"seg img\",segmented_img)\n",
    "cv2.imshow(\"ori ing\",read)\n",
    "cv2.waitKey(0)\n",
    "cv2.destroyAllWindows()"
   ]
  },
  {
   "cell_type": "code",
   "execution_count": null,
   "id": "95f60839",
   "metadata": {},
   "outputs": [],
   "source": []
  },
  {
   "cell_type": "code",
   "execution_count": null,
   "id": "3b94fdbe",
   "metadata": {},
   "outputs": [],
   "source": []
  }
 ],
 "metadata": {
  "kernelspec": {
   "display_name": "Python 3 (ipykernel)",
   "language": "python",
   "name": "python3"
  },
  "language_info": {
   "codemirror_mode": {
    "name": "ipython",
    "version": 3
   },
   "file_extension": ".py",
   "mimetype": "text/x-python",
   "name": "python",
   "nbconvert_exporter": "python",
   "pygments_lexer": "ipython3",
   "version": "3.11.4"
  }
 },
 "nbformat": 4,
 "nbformat_minor": 5
}
