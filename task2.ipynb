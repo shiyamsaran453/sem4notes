{
 "cells": [
  {
   "cell_type": "code",
   "execution_count": 1,
   "id": "e27c458c",
   "metadata": {},
   "outputs": [],
   "source": [
    "import cv2"
   ]
  },
  {
   "cell_type": "code",
   "execution_count": 2,
   "id": "a1ffc329",
   "metadata": {},
   "outputs": [],
   "source": [
    "import numpy as np"
   ]
  },
  {
   "cell_type": "code",
   "execution_count": 3,
   "id": "8e79465a",
   "metadata": {},
   "outputs": [],
   "source": [
    "a1=cv2.imread(\"C:/Users/SN139/Downloads/pmist.jpg\") "
   ]
  },
  {
   "cell_type": "code",
   "execution_count": 4,
   "id": "6d80e4d2",
   "metadata": {},
   "outputs": [
    {
     "data": {
      "text/plain": [
       "array([[[218,  99,  77],\n",
       "        [218,  99,  77],\n",
       "        [218,  99,  77],\n",
       "        ...,\n",
       "        [218,  99,  77],\n",
       "        [218,  99,  77],\n",
       "        [218,  99,  77]],\n",
       "\n",
       "       [[218,  99,  77],\n",
       "        [218,  99,  77],\n",
       "        [218,  99,  77],\n",
       "        ...,\n",
       "        [218,  99,  77],\n",
       "        [218,  99,  77],\n",
       "        [218,  99,  77]],\n",
       "\n",
       "       [[218,  99,  77],\n",
       "        [218,  99,  77],\n",
       "        [218,  99,  77],\n",
       "        ...,\n",
       "        [218,  99,  77],\n",
       "        [218,  99,  77],\n",
       "        [218,  99,  77]],\n",
       "\n",
       "       ...,\n",
       "\n",
       "       [[218,  99,  77],\n",
       "        [218,  99,  77],\n",
       "        [218,  99,  77],\n",
       "        ...,\n",
       "        [218,  99,  77],\n",
       "        [218,  99,  77],\n",
       "        [218,  99,  77]],\n",
       "\n",
       "       [[218,  99,  77],\n",
       "        [218,  99,  77],\n",
       "        [218,  99,  77],\n",
       "        ...,\n",
       "        [218,  99,  77],\n",
       "        [218,  99,  77],\n",
       "        [218,  99,  77]],\n",
       "\n",
       "       [[218,  99,  77],\n",
       "        [218,  99,  77],\n",
       "        [218,  99,  77],\n",
       "        ...,\n",
       "        [218,  99,  77],\n",
       "        [218,  99,  77],\n",
       "        [218,  99,  77]]], dtype=uint8)"
      ]
     },
     "execution_count": 4,
     "metadata": {},
     "output_type": "execute_result"
    }
   ],
   "source": [
    "a1"
   ]
  },
  {
   "cell_type": "code",
   "execution_count": null,
   "id": "f826545e",
   "metadata": {},
   "outputs": [],
   "source": [
    "cv2.imshow(\"a1\",a1)\n",
    "cv2.waitKey(0)\n",
    "cv2.destroyAllWindows()"
   ]
  },
  {
   "cell_type": "code",
   "execution_count": null,
   "id": "06c61123",
   "metadata": {},
   "outputs": [],
   "source": [
    "cv2.imwrite(\"C:/Users/SN139/Downloads/pmist.jpg\")"
   ]
  }
 ],
 "metadata": {
  "kernelspec": {
   "display_name": "Python 3 (ipykernel)",
   "language": "python",
   "name": "python3"
  },
  "language_info": {
   "codemirror_mode": {
    "name": "ipython",
    "version": 3
   },
   "file_extension": ".py",
   "mimetype": "text/x-python",
   "name": "python",
   "nbconvert_exporter": "python",
   "pygments_lexer": "ipython3",
   "version": "3.11.5"
  }
 },
 "nbformat": 4,
 "nbformat_minor": 5
}
